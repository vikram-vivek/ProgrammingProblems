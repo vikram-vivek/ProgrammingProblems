{
 "cells": [
  {
   "cell_type": "markdown",
   "metadata": {},
   "source": [
    "# Find Loop#\n",
    "Given a Linked list consiting of a loop\n",
    "Find the Node where the loop begins"
   ]
  },
  {
   "cell_type": "code",
   "execution_count": 1,
   "metadata": {
    "collapsed": true
   },
   "outputs": [],
   "source": [
    "class LinkedList:\n",
    "    def __init__(self, value):\n",
    "        self.value = value\n",
    "        self.next = None\n",
    "\n",
    "\n",
    "def findLoop(head):\n",
    "    slow = head\n",
    "    fast = head.next\n",
    "    \n",
    "    #find the loop\n",
    "    while slow != fast:\n",
    "        slow = slow.next\n",
    "        fast = fast.next.next\n",
    "    \n",
    "    #find the size of loop\n",
    "    ring_size = 1\n",
    "    cur = slow\n",
    "    slow = slow.next\n",
    "    while cur != slow:\n",
    "        ring_size += 1\n",
    "        slow = slow.next\n",
    "    \n",
    "    first = head\n",
    "    last = head\n",
    "    \n",
    "    for i in range(ring_size):\n",
    "        last = last.next\n",
    "    \n",
    "    #find the starting point of loop\n",
    "    while first != last:\n",
    "        first = first.next\n",
    "        last = last.next\n",
    "    \n",
    "    return first\n"
   ]
  },
  {
   "cell_type": "code",
   "execution_count": 3,
   "metadata": {},
   "outputs": [],
   "source": [
    "last = LinkedList(0)\n",
    "heaad = last\n",
    "for i in range(1,10):\n",
    "    node = LinkedList(i)\n",
    "    if i == 4:\n",
    "        store_four = node\n",
    "    last.next = node\n",
    "    last = node\n",
    "last.next = store_four"
   ]
  },
  {
   "cell_type": "code",
   "execution_count": null,
   "metadata": {
    "collapsed": true
   },
   "outputs": [],
   "source": []
  }
 ],
 "metadata": {
  "kernelspec": {
   "display_name": "Python 3",
   "language": "python",
   "name": "python3"
  },
  "language_info": {
   "codemirror_mode": {
    "name": "ipython",
    "version": 3
   },
   "file_extension": ".py",
   "mimetype": "text/x-python",
   "name": "python",
   "nbconvert_exporter": "python",
   "pygments_lexer": "ipython3",
   "version": "3.6.1"
  }
 },
 "nbformat": 4,
 "nbformat_minor": 2
}
