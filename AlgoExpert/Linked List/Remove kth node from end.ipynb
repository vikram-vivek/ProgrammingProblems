{
 "cells": [
  {
   "cell_type": "markdown",
   "metadata": {},
   "source": [
    "# Remove kth node from end #"
   ]
  },
  {
   "cell_type": "code",
   "execution_count": 1,
   "metadata": {
    "collapsed": true
   },
   "outputs": [],
   "source": [
    "class LinkedList:\n",
    "    def __init__(self, value):\n",
    "        self.value = value\n",
    "        self.next = None\n",
    "\n",
    "\n",
    "def removeKthNodeFromEnd(head, k):\n",
    "    # Write your code here.\n",
    "    first = head\n",
    "    last = head\n",
    "    for i in range(k):\n",
    "        last = last.next\n",
    "    \n",
    "    prev = head\n",
    "    \n",
    "    if last == None:\n",
    "        head.value = head.next.value\n",
    "        head.next = head.next.next\n",
    "        return head\n",
    "    \n",
    "    while last:\n",
    "        prev = first\n",
    "        last = last.next\n",
    "        first = first.next\n",
    "    \n",
    "    prev.next = first.next\n",
    "    \n",
    "    return head\n"
   ]
  },
  {
   "cell_type": "code",
   "execution_count": null,
   "metadata": {
    "collapsed": true
   },
   "outputs": [],
   "source": []
  }
 ],
 "metadata": {
  "kernelspec": {
   "display_name": "Python 3",
   "language": "python",
   "name": "python3"
  },
  "language_info": {
   "codemirror_mode": {
    "name": "ipython",
    "version": 3
   },
   "file_extension": ".py",
   "mimetype": "text/x-python",
   "name": "python",
   "nbconvert_exporter": "python",
   "pygments_lexer": "ipython3",
   "version": "3.6.1"
  }
 },
 "nbformat": 4,
 "nbformat_minor": 2
}
