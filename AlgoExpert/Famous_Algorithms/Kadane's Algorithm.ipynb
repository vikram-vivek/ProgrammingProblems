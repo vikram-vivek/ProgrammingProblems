{
 "cells": [
  {
   "cell_type": "markdown",
   "metadata": {},
   "source": [
    "# Kadane's Algorithm for finding\n",
    "# Maximum sum in a Continous SubArray "
   ]
  },
  {
   "cell_type": "code",
   "execution_count": 1,
   "metadata": {
    "collapsed": true
   },
   "outputs": [],
   "source": [
    "#Time Complexity: O(n)\n",
    "#Space Complexity: O(1)\n",
    "\n",
    "def find_max_sum(arr):\n",
    "    \"\"\"It returns the maximum sum in a continous subsrray\"\"\"\n",
    "    max_till_now = arr[0]\n",
    "    max_so_far = arr[0]\n",
    "    for i in arr[1:]:\n",
    "        max_till_now = max(max_till_now + i , i)\n",
    "        max_so_far = max(max_so_far,max_till_now)\n",
    "    return max_so_far"
   ]
  },
  {
   "cell_type": "code",
   "execution_count": 2,
   "metadata": {
    "collapsed": true
   },
   "outputs": [],
   "source": [
    "A = [3,5,-9,1,3,-2,3,4,7,2,-9,6,3,1,-5,4]"
   ]
  },
  {
   "cell_type": "code",
   "execution_count": 3,
   "metadata": {},
   "outputs": [
    {
     "data": {
      "text/plain": [
       "19"
      ]
     },
     "execution_count": 3,
     "metadata": {},
     "output_type": "execute_result"
    }
   ],
   "source": [
    "find_max_sum(A)"
   ]
  },
  {
   "cell_type": "code",
   "execution_count": 4,
   "metadata": {
    "collapsed": true
   },
   "outputs": [],
   "source": [
    "#Time Complexity: O(n)\n",
    "#Space Complexity: O(1)\n",
    "\n",
    "def print_max_sum_subarray(arr):\n",
    "    \"\"\"It returns the maximum sum in a continous subsrray\"\"\"\n",
    "    max_so_far = -float('inf')\n",
    "    max_ending_here = 0\n",
    "    start = 0\n",
    "    end = 0\n",
    "    s = 0\n",
    "  \n",
    "    for i in range(0,len(arr)): \n",
    "  \n",
    "        max_ending_here += arr[i] \n",
    "  \n",
    "        if max_so_far < max_ending_here: \n",
    "            max_so_far = max_ending_here \n",
    "            start = s \n",
    "            end = i \n",
    "  \n",
    "        if max_ending_here < 0: \n",
    "            max_ending_here = 0\n",
    "            s = i+1\n",
    "  \n",
    "    print (\"Maximum contiguous sum is %d\"%(max_so_far)) \n",
    "    print (\"Starting Index %d\"%(start)) \n",
    "    print (\"Ending Index %d\"%(end)) \n",
    "    print (\"Maximum contiguous sum Array is \",str(arr[start:end]))"
   ]
  },
  {
   "cell_type": "code",
   "execution_count": 5,
   "metadata": {},
   "outputs": [
    {
     "name": "stdout",
     "output_type": "stream",
     "text": [
      "Maximum contiguous sum is 19\n",
      "Starting Index 3\n",
      "Ending Index 13\n",
      "Maximum contiguous sum Array is  [1, 3, -2, 3, 4, 7, 2, -9, 6, 3]\n"
     ]
    }
   ],
   "source": [
    "print_max_sum_subarray(A)"
   ]
  },
  {
   "cell_type": "code",
   "execution_count": 6,
   "metadata": {},
   "outputs": [
    {
     "data": {
      "text/plain": [
       "[3, 5, -9, 1, 3, -2, 3, 4, 7, 2, -9, 6, 3, 1, -5, 4]"
      ]
     },
     "execution_count": 6,
     "metadata": {},
     "output_type": "execute_result"
    }
   ],
   "source": [
    "A"
   ]
  },
  {
   "cell_type": "code",
   "execution_count": null,
   "metadata": {
    "collapsed": true
   },
   "outputs": [],
   "source": []
  }
 ],
 "metadata": {
  "kernelspec": {
   "display_name": "Python 3",
   "language": "python",
   "name": "python3"
  },
  "language_info": {
   "codemirror_mode": {
    "name": "ipython",
    "version": 3
   },
   "file_extension": ".py",
   "mimetype": "text/x-python",
   "name": "python",
   "nbconvert_exporter": "python",
   "pygments_lexer": "ipython3",
   "version": "3.6.1"
  }
 },
 "nbformat": 4,
 "nbformat_minor": 2
}
