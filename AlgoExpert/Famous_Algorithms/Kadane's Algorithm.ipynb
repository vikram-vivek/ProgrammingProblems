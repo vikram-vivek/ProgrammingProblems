{
 "cells": [
  {
   "cell_type": "markdown",
   "metadata": {},
   "source": [
    "# Kadane's Algorithm for finding\n",
    "# Maximum sum in a Continous SubArray "
   ]
  },
  {
   "cell_type": "code",
   "execution_count": null,
   "metadata": {
    "collapsed": true
   },
   "outputs": [],
   "source": [
    "For Example\n",
    "\n",
    "Let this be our array of Integers\n",
    "[2, 3, 4, -5, 6, 7, -9, 1, 4]\n",
    "\n",
    "A continous subarray would be\n",
    "[2,3,4]\n",
    "[3,4,-5,6]\n",
    "[2]\n",
    "[3]\n",
    "\n",
    "What is the problem at hand?\n",
    "We have to find the maximum sum in a continous subarray.\n",
    "\n",
    "If all the numbers had been +ve we could have simply added them\n",
    "For example\n",
    "[2, 9, 5]\n",
    "\n",
    "So for this the maximum subarray would be [2,9,5] = 16\n",
    "\n",
    "Now if it had -ve numbers\n",
    "[2, -9, 5]\n",
    "\n",
    "So in this case the maximum sum continous subarray would be [5] = 5\n",
    "\n",
    "Idea?\n"
   ]
  },
  {
   "cell_type": "code",
   "execution_count": 13,
   "metadata": {
    "collapsed": true
   },
   "outputs": [],
   "source": [
    "#Time Complexity: O(n)\n",
    "#Space Complexity: O(1)\n",
    "\n",
    "def find_max_sum(arr):\n",
    "    \"\"\"It returns the maximum sum in a continous subsrray\"\"\"\n",
    "    max_till_now = arr[0]\n",
    "    max_so_far = arr[0]\n",
    "    for i in arr[1:]:\n",
    "        max_till_now = max(max_till_now + i , i)\n",
    "        max_so_far = max(max_so_far,max_till_now)\n",
    "    return max_so_far"
   ]
  },
  {
   "cell_type": "code",
   "execution_count": 14,
   "metadata": {
    "collapsed": true
   },
   "outputs": [],
   "source": [
    "A = [2,3,5,-6,4,-9,1,2,4,-3,5,6,3,9]"
   ]
  },
  {
   "cell_type": "code",
   "execution_count": 15,
   "metadata": {},
   "outputs": [
    {
     "data": {
      "text/plain": [
       "27"
      ]
     },
     "execution_count": 15,
     "metadata": {},
     "output_type": "execute_result"
    }
   ],
   "source": [
    "find_max_sum(A)"
   ]
  },
  {
   "cell_type": "code",
   "execution_count": 18,
   "metadata": {},
   "outputs": [],
   "source": [
    "#Time Complexity: O(n)\n",
    "#Space Complexity: O(1)\n",
    "\n",
    "def print_max_sum_subarray(arr):\n",
    "    \"\"\"It returns the maximum sum in a continous subsrray\"\"\"\n",
    "    max_so_far = -float('inf')\n",
    "    max_ending_here = 0\n",
    "    start = 0\n",
    "    end = 0\n",
    "    s = 0\n",
    "    \n",
    "    \n",
    "    for i in range(0,len(arr)): \n",
    "        \n",
    "        print(\"Before \",i, arr[i], max_ending_here, max_so_far, s, start, end)    \n",
    "        max_ending_here += arr[i] \n",
    "  \n",
    "        if max_so_far < max_ending_here: \n",
    "            max_so_far = max_ending_here \n",
    "            start = s \n",
    "            end = i \n",
    "  \n",
    "        if max_ending_here < 0: \n",
    "            max_ending_here = 0\n",
    "            s = i+1\n",
    "        \n",
    "        print(\"After  \",i, arr[i], max_ending_here, max_so_far, s, start, end)\n",
    "  \n",
    "    print (\"Maximum contiguous sum is %d\"%(max_so_far)) \n",
    "    print (\"Starting Index %d\"%(start)) \n",
    "    print (\"Ending Index %d\"%(end)) \n",
    "    print (\"Maximum contiguous sum Array is \",str(arr[start:end+1]))"
   ]
  },
  {
   "cell_type": "code",
   "execution_count": 16,
   "metadata": {},
   "outputs": [
    {
     "data": {
      "text/plain": [
       "[2, 3, 5, -6, 4, -9, 1, 2, 4, -3, 5, 6, 3, 9]"
      ]
     },
     "execution_count": 16,
     "metadata": {},
     "output_type": "execute_result"
    }
   ],
   "source": [
    "A"
   ]
  },
  {
   "cell_type": "code",
   "execution_count": 19,
   "metadata": {},
   "outputs": [
    {
     "name": "stdout",
     "output_type": "stream",
     "text": [
      "Before  0 2 0 -inf 0 0 0\n",
      "After   0 2 2 2 0 0 0\n",
      "Before  1 3 2 2 0 0 0\n",
      "After   1 3 5 5 0 0 1\n",
      "Before  2 5 5 5 0 0 1\n",
      "After   2 5 10 10 0 0 2\n",
      "Before  3 -6 10 10 0 0 2\n",
      "After   3 -6 4 10 0 0 2\n",
      "Before  4 4 4 10 0 0 2\n",
      "After   4 4 8 10 0 0 2\n",
      "Before  5 -9 8 10 0 0 2\n",
      "After   5 -9 0 10 6 0 2\n",
      "Before  6 1 0 10 6 0 2\n",
      "After   6 1 1 10 6 0 2\n",
      "Before  7 2 1 10 6 0 2\n",
      "After   7 2 3 10 6 0 2\n",
      "Before  8 4 3 10 6 0 2\n",
      "After   8 4 7 10 6 0 2\n",
      "Before  9 -3 7 10 6 0 2\n",
      "After   9 -3 4 10 6 0 2\n",
      "Before  10 5 4 10 6 0 2\n",
      "After   10 5 9 10 6 0 2\n",
      "Before  11 6 9 10 6 0 2\n",
      "After   11 6 15 15 6 6 11\n",
      "Before  12 3 15 15 6 6 11\n",
      "After   12 3 18 18 6 6 12\n",
      "Before  13 9 18 18 6 6 12\n",
      "After   13 9 27 27 6 6 13\n",
      "Maximum contiguous sum is 27\n",
      "Starting Index 6\n",
      "Ending Index 13\n",
      "Maximum contiguous sum Array is  [1, 2, 4, -3, 5, 6, 3, 9]\n"
     ]
    }
   ],
   "source": [
    "print_max_sum_subarray(A)"
   ]
  },
  {
   "cell_type": "code",
   "execution_count": 17,
   "metadata": {},
   "outputs": [
    {
     "data": {
      "text/plain": [
       "[2, 3, 5, -6, 4, -9, 1, 2, 4, -3, 5, 6, 3, 9]"
      ]
     },
     "execution_count": 17,
     "metadata": {},
     "output_type": "execute_result"
    }
   ],
   "source": [
    "A"
   ]
  },
  {
   "cell_type": "code",
   "execution_count": null,
   "metadata": {
    "collapsed": true
   },
   "outputs": [],
   "source": []
  }
 ],
 "metadata": {
  "kernelspec": {
   "display_name": "Python 3",
   "language": "python",
   "name": "python3"
  },
  "language_info": {
   "codemirror_mode": {
    "name": "ipython",
    "version": 3
   },
   "file_extension": ".py",
   "mimetype": "text/x-python",
   "name": "python",
   "nbconvert_exporter": "python",
   "pygments_lexer": "ipython3",
   "version": "3.6.1"
  }
 },
 "nbformat": 4,
 "nbformat_minor": 2
}
