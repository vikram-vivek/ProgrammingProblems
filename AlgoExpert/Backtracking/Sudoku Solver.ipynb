{
 "cells": [
  {
   "cell_type": "markdown",
   "metadata": {},
   "source": [
    "# Suduko Solver #\n",
    "Using Backtrackcing"
   ]
  },
  {
   "cell_type": "code",
   "execution_count": 1,
   "metadata": {
    "collapsed": true
   },
   "outputs": [],
   "source": [
    "board = [\n",
    "    [7,8,0,4,0,0,1,2,0],\n",
    "    [6,0,0,0,7,5,0,0,9],\n",
    "    [0,0,0,6,0,1,0,7,8],\n",
    "    [0,0,7,0,4,0,2,6,0],\n",
    "    [0,0,1,0,5,0,9,3,0],\n",
    "    [9,0,4,0,6,0,0,0,5],\n",
    "    [0,7,0,3,0,0,0,1,2],\n",
    "    [1,2,0,0,0,7,4,0,0],\n",
    "    [0,4,9,2,0,6,0,0,7]\n",
    "]"
   ]
  },
  {
   "cell_type": "code",
   "execution_count": 2,
   "metadata": {},
   "outputs": [],
   "source": [
    "def print_board(bo):\n",
    "    for i in range(len(bo)):\n",
    "        if i%3 == 0 and i != 0:\n",
    "                print(\"- - - - - - - - - -\")\n",
    "        for j in range(len(bo[0])):\n",
    "            if j%3 == 0 and j != 0:\n",
    "                print(\"|\", end = \"\")\n",
    "            if j != (len(bo[0])-1):\n",
    "                print(str(bo[i][j])+\" \", end = \"\")\n",
    "            else:\n",
    "                print(str(bo[i][j]))"
   ]
  },
  {
   "cell_type": "code",
   "execution_count": 3,
   "metadata": {},
   "outputs": [
    {
     "name": "stdout",
     "output_type": "stream",
     "text": [
      "7 8 0 |4 0 0 |1 2 0\n",
      "6 0 0 |0 7 5 |0 0 9\n",
      "0 0 0 |6 0 1 |0 7 8\n",
      "- - - - - - - - - -\n",
      "0 0 7 |0 4 0 |2 6 0\n",
      "0 0 1 |0 5 0 |9 3 0\n",
      "9 0 4 |0 6 0 |0 0 5\n",
      "- - - - - - - - - -\n",
      "0 7 0 |3 0 0 |0 1 2\n",
      "1 2 0 |0 0 7 |4 0 0\n",
      "0 4 9 |2 0 6 |0 0 7\n"
     ]
    }
   ],
   "source": [
    "print_board(board)"
   ]
  },
  {
   "cell_type": "code",
   "execution_count": 4,
   "metadata": {
    "collapsed": true
   },
   "outputs": [],
   "source": [
    "def find_empty(bo):\n",
    "    for i in range(len(bo)):\n",
    "        for j in range(len(bo[0])):\n",
    "            if bo[i][j] == 0:\n",
    "                return (i,j) # row, col\n",
    "    return None"
   ]
  },
  {
   "cell_type": "code",
   "execution_count": 5,
   "metadata": {},
   "outputs": [
    {
     "data": {
      "text/plain": [
       "(0, 2)"
      ]
     },
     "execution_count": 5,
     "metadata": {},
     "output_type": "execute_result"
    }
   ],
   "source": [
    "find_empty(board)"
   ]
  },
  {
   "cell_type": "code",
   "execution_count": 6,
   "metadata": {
    "collapsed": true
   },
   "outputs": [],
   "source": [
    "def valid(bo,pos,num):\n",
    "    #check row\n",
    "    for i in range(len(bo)):\n",
    "        if bo[pos[0]][i] == num and pos[1] != i:\n",
    "            return False\n",
    "    \n",
    "    #check col\n",
    "    for i in range(len(bo[0])):\n",
    "        if bo[i][pos[1]] == num and pos[0] != i:\n",
    "            return False\n",
    "    \n",
    "    #check box\n",
    "    box_x = pos[1]//3\n",
    "    box_y = pos[0]//3\n",
    "    \n",
    "    for i in range(box_y*3,box_y*3+3):\n",
    "        for j in range(box_x*3,box_x*3+3):\n",
    "            if bo[i][j] == num and pos != (i,j):\n",
    "                pass#return False\n",
    "    \n",
    "    return True"
   ]
  },
  {
   "cell_type": "code",
   "execution_count": 7,
   "metadata": {},
   "outputs": [
    {
     "data": {
      "text/plain": [
       "True"
      ]
     },
     "execution_count": 7,
     "metadata": {},
     "output_type": "execute_result"
    }
   ],
   "source": [
    "valid(board,(8,8),7)"
   ]
  },
  {
   "cell_type": "code",
   "execution_count": 8,
   "metadata": {
    "collapsed": true
   },
   "outputs": [],
   "source": [
    "def solve(bo):\n",
    "    \n",
    "    find = find_empty(bo)\n",
    "    if find == None:\n",
    "        return True\n",
    "    else:\n",
    "        row,col = find\n",
    "        for i in range(1,10):\n",
    "            if valid(bo,(row,col),i):\n",
    "                bo[row][col] = i\n",
    "                if solve(bo):\n",
    "                    return True                \n",
    "                bo[row][col] = 0\n",
    "    return False"
   ]
  },
  {
   "cell_type": "code",
   "execution_count": 9,
   "metadata": {},
   "outputs": [
    {
     "name": "stdout",
     "output_type": "stream",
     "text": [
      "7 8 0 |4 0 0 |1 2 0\n",
      "6 0 0 |0 7 5 |0 0 9\n",
      "0 0 0 |6 0 1 |0 7 8\n",
      "- - - - - - - - - -\n",
      "0 0 7 |0 4 0 |2 6 0\n",
      "0 0 1 |0 5 0 |9 3 0\n",
      "9 0 4 |0 6 0 |0 0 5\n",
      "- - - - - - - - - -\n",
      "0 7 0 |3 0 0 |0 1 2\n",
      "1 2 0 |0 0 7 |4 0 0\n",
      "0 4 9 |2 0 6 |0 0 7\n"
     ]
    }
   ],
   "source": [
    "print_board(board)"
   ]
  },
  {
   "cell_type": "code",
   "execution_count": 10,
   "metadata": {},
   "outputs": [
    {
     "data": {
      "text/plain": [
       "True"
      ]
     },
     "execution_count": 10,
     "metadata": {},
     "output_type": "execute_result"
    }
   ],
   "source": [
    "solve(board)"
   ]
  },
  {
   "cell_type": "code",
   "execution_count": 11,
   "metadata": {},
   "outputs": [
    {
     "name": "stdout",
     "output_type": "stream",
     "text": [
      "7 8 5 |4 3 9 |1 2 6\n",
      "6 1 2 |8 7 5 |3 4 9\n",
      "4 9 3 |6 2 1 |5 7 8\n",
      "- - - - - - - - - -\n",
      "8 5 7 |9 4 3 |2 6 1\n",
      "2 6 1 |7 5 8 |9 3 4\n",
      "9 3 4 |1 6 2 |7 8 5\n",
      "- - - - - - - - - -\n",
      "5 7 8 |3 9 4 |6 1 2\n",
      "1 2 6 |5 8 7 |4 9 3\n",
      "3 4 9 |2 1 6 |8 5 7\n"
     ]
    }
   ],
   "source": [
    "print_board(board)"
   ]
  },
  {
   "cell_type": "code",
   "execution_count": null,
   "metadata": {
    "collapsed": true
   },
   "outputs": [],
   "source": []
  }
 ],
 "metadata": {
  "kernelspec": {
   "display_name": "Python 3",
   "language": "python",
   "name": "python3"
  },
  "language_info": {
   "codemirror_mode": {
    "name": "ipython",
    "version": 3
   },
   "file_extension": ".py",
   "mimetype": "text/x-python",
   "name": "python",
   "nbconvert_exporter": "python",
   "pygments_lexer": "ipython3",
   "version": "3.6.1"
  }
 },
 "nbformat": 4,
 "nbformat_minor": 2
}
