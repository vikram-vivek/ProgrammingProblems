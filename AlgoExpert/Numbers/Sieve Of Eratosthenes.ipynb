{
 "cells": [
  {
   "cell_type": "markdown",
   "metadata": {},
   "source": [
    "# Sieve Of Eratosthenes\n",
    "Prime Numbers"
   ]
  },
  {
   "cell_type": "code",
   "execution_count": 4,
   "metadata": {},
   "outputs": [],
   "source": [
    "MAX = 30\n",
    "prime = [0 for i in range(MAX+1)]\n",
    "def SieveOfEratosthenes(): \n",
    "  \n",
    "    for i in range(2, int((MAX + 1)**0.5)): \n",
    "      \n",
    "        if (prime[i] == 0): \n",
    "            for j in range(i * 2, MAX + 1, i): \n",
    "                prime[j] = i \n",
    "      \n",
    "    # Prime number will have same divisor \n",
    "    for i in range(1, MAX): \n",
    "        if (prime[i] == 0): \n",
    "            prime[i] = i "
   ]
  },
  {
   "cell_type": "code",
   "execution_count": 5,
   "metadata": {},
   "outputs": [],
   "source": [
    "SieveOfEratosthenes()"
   ]
  },
  {
   "cell_type": "code",
   "execution_count": 6,
   "metadata": {},
   "outputs": [
    {
     "data": {
      "text/plain": [
       "[0,\n",
       " 1,\n",
       " 2,\n",
       " 3,\n",
       " 2,\n",
       " 5,\n",
       " 3,\n",
       " 7,\n",
       " 2,\n",
       " 3,\n",
       " 2,\n",
       " 11,\n",
       " 3,\n",
       " 13,\n",
       " 2,\n",
       " 3,\n",
       " 2,\n",
       " 17,\n",
       " 3,\n",
       " 19,\n",
       " 2,\n",
       " 3,\n",
       " 2,\n",
       " 23,\n",
       " 3,\n",
       " 25,\n",
       " 2,\n",
       " 3,\n",
       " 2,\n",
       " 29,\n",
       " 3]"
      ]
     },
     "execution_count": 6,
     "metadata": {},
     "output_type": "execute_result"
    }
   ],
   "source": [
    "prime"
   ]
  },
  {
   "cell_type": "code",
   "execution_count": null,
   "metadata": {},
   "outputs": [],
   "source": []
  }
 ],
 "metadata": {
  "kernelspec": {
   "display_name": "Python 3",
   "language": "python",
   "name": "python3"
  },
  "language_info": {
   "codemirror_mode": {
    "name": "ipython",
    "version": 3
   },
   "file_extension": ".py",
   "mimetype": "text/x-python",
   "name": "python",
   "nbconvert_exporter": "python",
   "pygments_lexer": "ipython3",
   "version": "3.7.6"
  }
 },
 "nbformat": 4,
 "nbformat_minor": 4
}
