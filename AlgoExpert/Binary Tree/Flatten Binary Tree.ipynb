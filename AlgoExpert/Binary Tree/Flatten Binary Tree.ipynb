{
 "cells": [
  {
   "cell_type": "markdown",
   "metadata": {},
   "source": [
    "# Flatten Binary Tree"
   ]
  },
  {
   "cell_type": "code",
   "execution_count": 2,
   "metadata": {},
   "outputs": [],
   "source": [
    "class BinaryTree:\n",
    "    def __init__(self, value, left=None, right=None):\n",
    "        self.value = value\n",
    "        self.left = left\n",
    "        self.right = right\n",
    "\n",
    "\n",
    "def flattenBinaryTree(root):\n",
    "    l = []\n",
    "    \n",
    "    def inorder(root):\n",
    "        if root is None:\n",
    "            return\n",
    "        inorder(root.left)\n",
    "        l.append(root)\n",
    "        inorder(root.right)\n",
    "    \n",
    "    inorder(root)\n",
    "    \n",
    "    a = start = l[0]\n",
    "    start.left = None\n",
    "    for i in range(1,len(l)):\n",
    "        l[i].left = a\n",
    "        l[i].right = None\n",
    "        a.right = l[i]\n",
    "        a = a.right\n",
    "    \n",
    "    return start\n"
   ]
  },
  {
   "cell_type": "code",
   "execution_count": null,
   "metadata": {},
   "outputs": [],
   "source": []
  }
 ],
 "metadata": {
  "kernelspec": {
   "display_name": "Python 3",
   "language": "python",
   "name": "python3"
  },
  "language_info": {
   "codemirror_mode": {
    "name": "ipython",
    "version": 3
   },
   "file_extension": ".py",
   "mimetype": "text/x-python",
   "name": "python",
   "nbconvert_exporter": "python",
   "pygments_lexer": "ipython3",
   "version": "3.7.6"
  }
 },
 "nbformat": 4,
 "nbformat_minor": 4
}
