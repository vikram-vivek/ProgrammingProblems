{
 "cells": [
  {
   "cell_type": "markdown",
   "metadata": {},
   "source": [
    "# Sum Node Depth\n",
    "Find Sum of depth of all nodes in a Binary tree"
   ]
  },
  {
   "cell_type": "code",
   "execution_count": 1,
   "metadata": {
    "collapsed": true
   },
   "outputs": [],
   "source": [
    "def nodeDepths(root):\n",
    "    sum_depth = 0\n",
    "    stack = [{\"node\":root,\"depth\":0}]\n",
    "    \n",
    "    while len(stack) > 0:\n",
    "        node_info = stack.pop()\n",
    "        node, depth = node_info[\"node\"], node_info[\"depth\"]\n",
    "        if node is None:\n",
    "            continue\n",
    "        sum_depth += depth\n",
    "        stack.append({\"node\":node.left, \"depth\": depth+1})\n",
    "        stack.append({\"node\":node.right, \"depth\": depth+1})\n",
    "    \n",
    "    return sum_depth\n",
    "\n",
    "class BinaryTree:\n",
    "    def __init__(self, value):\n",
    "        self.value = value\n",
    "        self.left = None\n",
    "        self.right = None\n"
   ]
  },
  {
   "cell_type": "code",
   "execution_count": null,
   "metadata": {
    "collapsed": true
   },
   "outputs": [],
   "source": []
  }
 ],
 "metadata": {
  "kernelspec": {
   "display_name": "Python 3",
   "language": "python",
   "name": "python3"
  },
  "language_info": {
   "codemirror_mode": {
    "name": "ipython",
    "version": 3
   },
   "file_extension": ".py",
   "mimetype": "text/x-python",
   "name": "python",
   "nbconvert_exporter": "python",
   "pygments_lexer": "ipython3",
   "version": "3.6.1"
  }
 },
 "nbformat": 4,
 "nbformat_minor": 2
}
