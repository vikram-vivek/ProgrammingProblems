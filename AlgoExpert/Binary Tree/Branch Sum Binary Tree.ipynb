{
 "cells": [
  {
   "cell_type": "markdown",
   "metadata": {},
   "source": [
    "# Branch Sum Binary Tree#\n",
    "The sum of all the numbers which are formed from root to leaf paths."
   ]
  },
  {
   "cell_type": "code",
   "execution_count": 1,
   "metadata": {
    "collapsed": true
   },
   "outputs": [],
   "source": [
    "class BinaryTree:\n",
    "    def __init__(self, value):\n",
    "        self.value = value\n",
    "        self.left = None\n",
    "        self.right = None\n",
    "\n",
    "\n",
    "def branchSums(root):\n",
    "    sums = []\n",
    "    calc_branch_sum(root,0,sums)\n",
    "    return sums\n",
    "\n",
    "def calc_branch_sum(root,running_sum,sums):\n",
    "    if root == None:\n",
    "        return\n",
    "    cur_sum = running_sum + root.value\n",
    "    if root.left == None and root.right == None:\n",
    "        sums.append(cur_sum)\n",
    "        return\n",
    "    calc_branch_sum(root.left,cur_sum,sums)\n",
    "    calc_branch_sum(root.right,cur_sum,sums)"
   ]
  },
  {
   "cell_type": "code",
   "execution_count": 3,
   "metadata": {},
   "outputs": [],
   "source": [
    "one = BinaryTree(1)\n",
    "two = BinaryTree(2)\n",
    "three = BinaryTree(3)\n",
    "four = BinaryTree(4)\n",
    "five = BinaryTree(5)\n",
    "six = BinaryTree(6)\n",
    "seven = BinaryTree(7)\n",
    "eight = BinaryTree(8)\n",
    "nine = BinaryTree(9)\n",
    "ten = BinaryTree(10)\n",
    "one.left = two \n",
    "one.right = three\n",
    "two.left = four\n",
    "two.right = five\n",
    "three.left = six\n",
    "three.right = seven\n",
    "four.left = eight\n",
    "four.right = nine\n",
    "five.left = ten"
   ]
  },
  {
   "cell_type": "code",
   "execution_count": 4,
   "metadata": {},
   "outputs": [
    {
     "data": {
      "text/plain": [
       "[15, 16, 18, 10, 11]"
      ]
     },
     "execution_count": 4,
     "metadata": {},
     "output_type": "execute_result"
    }
   ],
   "source": [
    "branchSums(one)"
   ]
  },
  {
   "cell_type": "code",
   "execution_count": null,
   "metadata": {
    "collapsed": true
   },
   "outputs": [],
   "source": []
  }
 ],
 "metadata": {
  "kernelspec": {
   "display_name": "Python 3",
   "language": "python",
   "name": "python3"
  },
  "language_info": {
   "codemirror_mode": {
    "name": "ipython",
    "version": 3
   },
   "file_extension": ".py",
   "mimetype": "text/x-python",
   "name": "python",
   "nbconvert_exporter": "python",
   "pygments_lexer": "ipython3",
   "version": "3.6.1"
  }
 },
 "nbformat": 4,
 "nbformat_minor": 2
}
