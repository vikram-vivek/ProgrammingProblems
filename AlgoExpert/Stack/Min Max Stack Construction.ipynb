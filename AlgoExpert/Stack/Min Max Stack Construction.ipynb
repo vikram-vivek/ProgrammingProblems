{
 "cells": [
  {
   "cell_type": "markdown",
   "metadata": {},
   "source": [
    "# Min Max Stack Construction #\n",
    "Stack with O(1) operation for finding Minimum and Maximum\n",
    "push\n",
    "pop\n",
    "peek\n",
    "getMin\n",
    "getMax"
   ]
  },
  {
   "cell_type": "code",
   "execution_count": 1,
   "metadata": {
    "collapsed": true
   },
   "outputs": [],
   "source": [
    "# Feel free to add new properties and methods to the class.\n",
    "class MinMaxStack:\n",
    "    def __init__(self):\n",
    "        self.min_max_stack =[]\n",
    "        self.stack = []\n",
    "        \n",
    "    def peek(self):\n",
    "        # Write your code here.\n",
    "        if len(self.stack)>0:\n",
    "            return self.stack[-1]\n",
    "\n",
    "    def pop(self):\n",
    "        # Write your code here.\n",
    "        if len(self.min_max_stack)>0:\n",
    "            self.min_max_stack.pop()\n",
    "        if len(self.stack)>0:\n",
    "            return self.stack.pop()\n",
    "\n",
    "    def push(self, number):\n",
    "        # Write your code here.\n",
    "        new_min_max = {\"min\":number,\"max\":number}\n",
    "        if len(self.min_max_stack)>0:\n",
    "            last_min_max = self.min_max_stack[-1]\n",
    "            new_min_max[\"min\"] = min(last_min_max[\"min\"],number)\n",
    "            new_min_max[\"max\"] = max(last_min_max[\"max\"],number)\n",
    "        self.min_max_stack.append(new_min_max)\n",
    "        self.stack.append(number)\n",
    "\n",
    "    def getMin(self):\n",
    "        if len(self.min_max_stack)>0:\n",
    "            return self.min_max_stack[-1][\"min\"]\n",
    "\n",
    "    def getMax(self):\n",
    "        if len(self.min_max_stack)>0:\n",
    "            return self.min_max_stack[-1][\"max\"]"
   ]
  },
  {
   "cell_type": "code",
   "execution_count": 2,
   "metadata": {},
   "outputs": [
    {
     "name": "stdout",
     "output_type": "stream",
     "text": [
      "3\n",
      "3\n",
      "4\n",
      "5\n"
     ]
    }
   ],
   "source": [
    "mm = MinMaxStack()\n",
    "mm.push(4)\n",
    "mm.push(3)\n",
    "print(mm.peek())\n",
    "print(mm.pop())\n",
    "print(mm.getMin())\n",
    "mm.push(5)\n",
    "print(mm.getMax())"
   ]
  },
  {
   "cell_type": "code",
   "execution_count": null,
   "metadata": {
    "collapsed": true
   },
   "outputs": [],
   "source": []
  }
 ],
 "metadata": {
  "kernelspec": {
   "display_name": "Python 3",
   "language": "python",
   "name": "python3"
  },
  "language_info": {
   "codemirror_mode": {
    "name": "ipython",
    "version": 3
   },
   "file_extension": ".py",
   "mimetype": "text/x-python",
   "name": "python",
   "nbconvert_exporter": "python",
   "pygments_lexer": "ipython3",
   "version": "3.6.1"
  }
 },
 "nbformat": 4,
 "nbformat_minor": 2
}
