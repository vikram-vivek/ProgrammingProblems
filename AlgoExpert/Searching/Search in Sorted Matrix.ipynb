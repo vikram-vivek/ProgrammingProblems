{
 "cells": [
  {
   "cell_type": "markdown",
   "metadata": {},
   "source": [
    "# Search in Sorted Matrix\n",
    "A sorted matrix where each row and each column are sorted"
   ]
  },
  {
   "cell_type": "code",
   "execution_count": 1,
   "metadata": {},
   "outputs": [],
   "source": [
    "def searchInSortedMatrix(matrix, target):\n",
    "    # Write your code here.\n",
    "    row = 0\n",
    "    col = len(matrix[0])-1\n",
    "    \n",
    "    while row<(len(matrix)) and col >= 0:\n",
    "        if target > matrix[row][col]:\n",
    "            row += 1\n",
    "        elif target < matrix[row][col]:\n",
    "            col -= 1\n",
    "        else:\n",
    "            return [row,col]\n",
    "    \n",
    "    return [-1,-1]"
   ]
  },
  {
   "cell_type": "code",
   "execution_count": 2,
   "metadata": {},
   "outputs": [],
   "source": [
    "arr = [\n",
    "    [1, 4, 7, 12, 15, 1000],\n",
    "    [2, 5, 19, 31, 32, 1001],\n",
    "    [3, 8, 24, 33, 35, 1002],\n",
    "    [40, 41, 42, 44, 45, 1003],\n",
    "    [99, 100, 103, 106, 128, 1004]\n",
    "  ]\n",
    "target = 44"
   ]
  },
  {
   "cell_type": "code",
   "execution_count": 3,
   "metadata": {},
   "outputs": [
    {
     "data": {
      "text/plain": [
       "[3, 3]"
      ]
     },
     "execution_count": 3,
     "metadata": {},
     "output_type": "execute_result"
    }
   ],
   "source": [
    "searchInSortedMatrix(arr, target)"
   ]
  },
  {
   "cell_type": "code",
   "execution_count": 4,
   "metadata": {},
   "outputs": [
    {
     "data": {
      "text/plain": [
       "[-1, -1]"
      ]
     },
     "execution_count": 4,
     "metadata": {},
     "output_type": "execute_result"
    }
   ],
   "source": [
    "searchInSortedMatrix(arr, 25)"
   ]
  },
  {
   "cell_type": "code",
   "execution_count": null,
   "metadata": {},
   "outputs": [],
   "source": []
  }
 ],
 "metadata": {
  "kernelspec": {
   "display_name": "Python 3",
   "language": "python",
   "name": "python3"
  },
  "language_info": {
   "codemirror_mode": {
    "name": "ipython",
    "version": 3
   },
   "file_extension": ".py",
   "mimetype": "text/x-python",
   "name": "python",
   "nbconvert_exporter": "python",
   "pygments_lexer": "ipython3",
   "version": "3.7.6"
  }
 },
 "nbformat": 4,
 "nbformat_minor": 4
}
