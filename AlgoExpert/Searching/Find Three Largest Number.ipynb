{
 "cells": [
  {
   "cell_type": "markdown",
   "metadata": {},
   "source": [
    "# Find Three Largest Number"
   ]
  },
  {
   "cell_type": "code",
   "execution_count": 1,
   "metadata": {
    "collapsed": true
   },
   "outputs": [],
   "source": [
    "# TC: O(n) SC: O(1)\n",
    "def findThreeLargestNumbers(array):\n",
    "    three_largest = [None,None,None]\n",
    "    for num in array:\n",
    "        update_largest(three_largest,num)\n",
    "    return three_largest\n",
    "\n",
    "def update_largest(three_largest,num):\n",
    "    if three_largest[2] is None or num > three_largest[2]:\n",
    "        shift_and_update(three_largest,num,2)\n",
    "    elif three_largest[1] is None or num > three_largest[1]:\n",
    "        shift_and_update(three_largest,num,1)\n",
    "    elif three_largest[0] is None or num > three_largest[0]:\n",
    "        shift_and_update(three_largest,num,0)\n",
    "\n",
    "def shift_and_update(array, num, idx):\n",
    "    for i in range(idx+1):\n",
    "        if i == idx:\n",
    "            array[i] = num\n",
    "        else:\n",
    "            array[i] = array[i+1]"
   ]
  },
  {
   "cell_type": "code",
   "execution_count": 2,
   "metadata": {
    "collapsed": true
   },
   "outputs": [],
   "source": [
    "arr = [4,10, 15, 6, 26, 0, 89]"
   ]
  },
  {
   "cell_type": "code",
   "execution_count": 3,
   "metadata": {},
   "outputs": [
    {
     "data": {
      "text/plain": [
       "[15, 26, 89]"
      ]
     },
     "execution_count": 3,
     "metadata": {},
     "output_type": "execute_result"
    }
   ],
   "source": [
    "findThreeLargestNumbers(arr)"
   ]
  },
  {
   "cell_type": "code",
   "execution_count": null,
   "metadata": {
    "collapsed": true
   },
   "outputs": [],
   "source": []
  }
 ],
 "metadata": {
  "kernelspec": {
   "display_name": "Python 3",
   "language": "python",
   "name": "python3"
  },
  "language_info": {
   "codemirror_mode": {
    "name": "ipython",
    "version": 3
   },
   "file_extension": ".py",
   "mimetype": "text/x-python",
   "name": "python",
   "nbconvert_exporter": "python",
   "pygments_lexer": "ipython3",
   "version": "3.6.1"
  }
 },
 "nbformat": 4,
 "nbformat_minor": 2
}
