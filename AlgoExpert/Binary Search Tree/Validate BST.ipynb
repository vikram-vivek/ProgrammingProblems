{
 "cells": [
  {
   "cell_type": "markdown",
   "metadata": {},
   "source": [
    "# Validate BST"
   ]
  },
  {
   "cell_type": "code",
   "execution_count": null,
   "metadata": {},
   "outputs": [],
   "source": [
    "class BST:\n",
    "    def __init__(self, value):\n",
    "        self.value = value\n",
    "        self.left = None\n",
    "        self.right = None\n",
    "\n",
    "def validateBst(tree):\n",
    "    return validateHelper(tree,float('-inf'),float('inf'))\n",
    " \n",
    "def validateHelper(tree ,minValue, maxValue):\n",
    "    if tree is None:\n",
    "        return True\n",
    "    \n",
    "    if tree.value < minValue or tree.value>=maxValue:\n",
    "        return False\n",
    "    \n",
    "    leftValid = validateHelper(tree.left,minValue,tree.value)\n",
    "    rightValid = validateHelper(tree.right,tree.value,maxValue)\n",
    "    \n",
    "    return (leftValid and rightValid)"
   ]
  }
 ],
 "metadata": {
  "kernelspec": {
   "display_name": "Python 3",
   "language": "python",
   "name": "python3"
  },
  "language_info": {
   "codemirror_mode": {
    "name": "ipython",
    "version": 3
   },
   "file_extension": ".py",
   "mimetype": "text/x-python",
   "name": "python",
   "nbconvert_exporter": "python",
   "pygments_lexer": "ipython3",
   "version": "3.7.6"
  }
 },
 "nbformat": 4,
 "nbformat_minor": 4
}
