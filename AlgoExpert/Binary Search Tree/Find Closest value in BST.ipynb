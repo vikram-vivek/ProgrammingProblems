{
 "cells": [
  {
   "cell_type": "markdown",
   "metadata": {},
   "source": [
    "# Find Closest value in BST #\n",
    "Function which takes a BST and a target value and erturns the closest value to the target"
   ]
  },
  {
   "cell_type": "code",
   "execution_count": 1,
   "metadata": {
    "collapsed": true
   },
   "outputs": [],
   "source": [
    "# Recursive Solution\n",
    "# Average Case TC : O(log n) SC : O(log n) \n",
    "# Worst Case   TC : O(n)     SC : O(n)\n",
    "def findClosestValueInBst(tree, target):\n",
    "    # Write your code here.\n",
    "    closest = tree.value\n",
    "    return findClosestValueInBstHelper(tree,target,closest)\n",
    "\n",
    "def findClosestValueInBstHelper(tree,target,closest):\n",
    "    if tree is None:\n",
    "        return closest\n",
    "    if abs(target-tree.value)<abs(target-closest):\n",
    "        closest = tree.value\n",
    "    if target < tree.value:\n",
    "        return findClosestValueInBstHelper(tree.left,target,closest)\n",
    "    elif target > tree.value:\n",
    "        return findClosestValueInBstHelper(tree.right,target,closest)\n",
    "    else:\n",
    "        return closest"
   ]
  },
  {
   "cell_type": "code",
   "execution_count": 2,
   "metadata": {
    "collapsed": true
   },
   "outputs": [],
   "source": [
    "# Iterative Solution\n",
    "# Average Case TC : O(log n) SC : O(1) \n",
    "# Worst Case   TC : O(n)     SC : O(1)\n",
    "def findClosestValueInBst(tree, target):\n",
    "    # Write your code here.\n",
    "    closest = float(\"inf\")\n",
    "    return findClosestValueInBstHelper(tree,target,closest)\n",
    "\n",
    "def findClosestValueInBstHelper(tree,target,closest):\n",
    "    if tree is None:\n",
    "        return closest\n",
    "    if abs(target-tree.value)<abs(target-closest):\n",
    "        closest = tree.value\n",
    "    if target < tree.value:\n",
    "        return findClosestValueInBstHelper(tree.left,target,closest)\n",
    "    elif target > tree.value:\n",
    "        return findClosestValueInBstHelper(tree.right,target,closest)\n",
    "    else:\n",
    "        return closest"
   ]
  },
  {
   "cell_type": "code",
   "execution_count": null,
   "metadata": {
    "collapsed": true
   },
   "outputs": [],
   "source": []
  }
 ],
 "metadata": {
  "kernelspec": {
   "display_name": "Python 3",
   "language": "python",
   "name": "python3"
  },
  "language_info": {
   "codemirror_mode": {
    "name": "ipython",
    "version": 3
   },
   "file_extension": ".py",
   "mimetype": "text/x-python",
   "name": "python",
   "nbconvert_exporter": "python",
   "pygments_lexer": "ipython3",
   "version": "3.6.1"
  }
 },
 "nbformat": 4,
 "nbformat_minor": 2
}
