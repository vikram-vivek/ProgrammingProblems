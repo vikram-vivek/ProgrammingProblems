{
 "cells": [
  {
   "cell_type": "markdown",
   "metadata": {},
   "source": [
    "# BST Traversal"
   ]
  },
  {
   "cell_type": "code",
   "execution_count": 1,
   "metadata": {},
   "outputs": [],
   "source": [
    "def inOrderTraverse(tree, array):\n",
    "    if tree is None:\n",
    "        return\n",
    "    inOrderTraverse(tree.left,array)\n",
    "    array.append(tree.value)\n",
    "    inOrderTraverse(tree.right,array)\n",
    "    return array\n",
    "\n",
    "def preOrderTraverse(tree, array):\n",
    "    if tree is None:\n",
    "        return\n",
    "    array.append(tree.value)\n",
    "    preOrderTraverse(tree.left,array)\n",
    "    preOrderTraverse(tree.right,array)\n",
    "    return array\n",
    "\n",
    "def postOrderTraverse(tree, array):\n",
    "    if tree is None:\n",
    "        return array\n",
    "    postOrderTraverse(tree.left,array)\n",
    "    postOrderTraverse(tree.right,array)\n",
    "    array.append(tree.value)\n",
    "    return array"
   ]
  },
  {
   "cell_type": "code",
   "execution_count": null,
   "metadata": {},
   "outputs": [],
   "source": []
  }
 ],
 "metadata": {
  "kernelspec": {
   "display_name": "Python 3",
   "language": "python",
   "name": "python3"
  },
  "language_info": {
   "codemirror_mode": {
    "name": "ipython",
    "version": 3
   },
   "file_extension": ".py",
   "mimetype": "text/x-python",
   "name": "python",
   "nbconvert_exporter": "python",
   "pygments_lexer": "ipython3",
   "version": "3.7.6"
  }
 },
 "nbformat": 4,
 "nbformat_minor": 4
}
