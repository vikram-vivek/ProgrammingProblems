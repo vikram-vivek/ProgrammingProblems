{
 "cells": [
  {
   "cell_type": "markdown",
   "metadata": {},
   "source": [
    "# Move Elements to the End"
   ]
  },
  {
   "cell_type": "code",
   "execution_count": 1,
   "metadata": {},
   "outputs": [],
   "source": [
    "# Given an array of numbers and an element to move. \n",
    "# Move all the occurance of the elements in the array at the end. \n",
    "# Do it in place"
   ]
  },
  {
   "cell_type": "code",
   "execution_count": 2,
   "metadata": {},
   "outputs": [],
   "source": [
    "# TC: O(n) SC: O(1)\n",
    "\n",
    "def moveElementToEnd(array, toMove):\n",
    "    # Write your code here.\n",
    "    i = 0\n",
    "    j = len(array) - 1\n",
    "    while i<j:\n",
    "        while array[j] == toMove and i<j:\n",
    "            j -= 1\n",
    "        if array[i] == toMove:\n",
    "            array[i],array[j] = array[j],array[i]\n",
    "        i += 1\n",
    "    return array"
   ]
  },
  {
   "cell_type": "code",
   "execution_count": 3,
   "metadata": {},
   "outputs": [],
   "source": [
    "test = {\"array\": [3, 1, 2, 4, 5], \"toMove\": 3}\n",
    "answer = [5, 1, 2, 4, 3]"
   ]
  },
  {
   "cell_type": "code",
   "execution_count": null,
   "metadata": {},
   "outputs": [],
   "source": []
  }
 ],
 "metadata": {
  "kernelspec": {
   "display_name": "Python 3",
   "language": "python",
   "name": "python3"
  },
  "language_info": {
   "codemirror_mode": {
    "name": "ipython",
    "version": 3
   },
   "file_extension": ".py",
   "mimetype": "text/x-python",
   "name": "python",
   "nbconvert_exporter": "python",
   "pygments_lexer": "ipython3",
   "version": "3.7.6"
  }
 },
 "nbformat": 4,
 "nbformat_minor": 4
}
