{
 "cells": [
  {
   "cell_type": "markdown",
   "metadata": {},
   "source": [
    "# 3 NUMBER SUM #"
   ]
  },
  {
   "cell_type": "code",
   "execution_count": 2,
   "metadata": {},
   "outputs": [],
   "source": [
    "def threeNumberSum(array, targetSum):\n",
    "    # Write your code here.\n",
    "    array.sort()\n",
    "    sol = []\n",
    "    for i in range(len(array)-2):\n",
    "        left = i+1\n",
    "        right = len(array)-1\n",
    "        while left<right:\n",
    "            cs = array[i] + array[left] + array[right]\n",
    "            if cs == targetSum:\n",
    "                sol.append([array[i],array[left],array[right]])\n",
    "                left += 1\n",
    "                right -= 1\n",
    "            elif cs < targetSum:\n",
    "                left += 1\n",
    "            elif cs > targetSum:\n",
    "                right -= 1\n",
    "    return sol"
   ]
  },
  {
   "cell_type": "code",
   "execution_count": 5,
   "metadata": {
    "collapsed": true
   },
   "outputs": [],
   "source": [
    "A = [2, 4, 45, 6, 0, 8] \n",
    "n = 12"
   ]
  },
  {
   "cell_type": "code",
   "execution_count": 6,
   "metadata": {},
   "outputs": [
    {
     "data": {
      "text/plain": [
       "[[0, 4, 8], [2, 4, 6]]"
      ]
     },
     "execution_count": 6,
     "metadata": {},
     "output_type": "execute_result"
    }
   ],
   "source": [
    "threeNumberSum(A,n)"
   ]
  },
  {
   "cell_type": "code",
   "execution_count": null,
   "metadata": {
    "collapsed": true
   },
   "outputs": [],
   "source": []
  }
 ],
 "metadata": {
  "kernelspec": {
   "display_name": "Python 3",
   "language": "python",
   "name": "python3"
  },
  "language_info": {
   "codemirror_mode": {
    "name": "ipython",
    "version": 3
   },
   "file_extension": ".py",
   "mimetype": "text/x-python",
   "name": "python",
   "nbconvert_exporter": "python",
   "pygments_lexer": "ipython3",
   "version": "3.6.1"
  }
 },
 "nbformat": 4,
 "nbformat_minor": 2
}
