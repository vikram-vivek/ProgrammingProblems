{
 "cells": [
  {
   "cell_type": "markdown",
   "metadata": {},
   "source": [
    "# Smallest Difference\n",
    "Given 2 array find pair of numbers one from each array whose difference is closest to 0"
   ]
  },
  {
   "cell_type": "code",
   "execution_count": 1,
   "metadata": {},
   "outputs": [],
   "source": [
    "def smallestDifference(arrayOne, arrayTwo):\n",
    "    # Write your code here.\n",
    "    i = 0\n",
    "    j = 0\n",
    "    arrayOne.sort()\n",
    "    arrayTwo.sort()\n",
    "    min_diff = float('inf')\n",
    "    ans = []\n",
    "    while i < len(arrayOne) and j < len(arrayTwo):\n",
    "        curr_diff = abs(arrayOne[i]-arrayTwo[j])\n",
    "        if curr_diff < min_diff:\n",
    "            min_diff = curr_diff\n",
    "            ans = [arrayOne[i],arrayTwo[j]]\n",
    "        if arrayOne[i] < arrayTwo[j]:\n",
    "            i += 1\n",
    "        elif arrayOne[i] > arrayTwo[j]:\n",
    "            j += 1\n",
    "        else:\n",
    "            return ans\n",
    "    return ans"
   ]
  },
  {
   "cell_type": "code",
   "execution_count": 2,
   "metadata": {},
   "outputs": [],
   "source": [
    "one = [2,4,5,6,25]\n",
    "two = [97,45,23,25,0]"
   ]
  },
  {
   "cell_type": "code",
   "execution_count": 3,
   "metadata": {},
   "outputs": [
    {
     "data": {
      "text/plain": [
       "[25, 25]"
      ]
     },
     "execution_count": 3,
     "metadata": {},
     "output_type": "execute_result"
    }
   ],
   "source": [
    "smallestDifference(one,two)"
   ]
  },
  {
   "cell_type": "code",
   "execution_count": null,
   "metadata": {},
   "outputs": [],
   "source": []
  }
 ],
 "metadata": {
  "kernelspec": {
   "display_name": "Python 3",
   "language": "python",
   "name": "python3"
  },
  "language_info": {
   "codemirror_mode": {
    "name": "ipython",
    "version": 3
   },
   "file_extension": ".py",
   "mimetype": "text/x-python",
   "name": "python",
   "nbconvert_exporter": "python",
   "pygments_lexer": "ipython3",
   "version": "3.7.6"
  }
 },
 "nbformat": 4,
 "nbformat_minor": 4
}
