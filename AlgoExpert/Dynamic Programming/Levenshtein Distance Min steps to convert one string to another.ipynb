{
 "cells": [
  {
   "cell_type": "markdown",
   "metadata": {},
   "source": [
    "# Levenshtein Distance"
   ]
  },
  {
   "cell_type": "code",
   "execution_count": 1,
   "metadata": {},
   "outputs": [],
   "source": [
    "# Convert a string into another when 3 operations are available\n",
    "# Insert, Delete and Replace with minimum steps.\n",
    "\n",
    "# Ex. {\"str1\": \"abc\", \"str2\": \"yabd\"} Output : 2\n",
    "#     {\"str1\": \"abcdefghij\", \"str2\": \"1234567890\"} Output : 10"
   ]
  },
  {
   "cell_type": "code",
   "execution_count": 2,
   "metadata": {},
   "outputs": [],
   "source": [
    "# TC: O(nm) SC: O(nm)\n",
    "# 2D Matrix\n",
    "def levenshteinDistance(str1, str2):\n",
    "    # Write your code here.\n",
    "    m = len(str2)\n",
    "    n = len(str1)\n",
    "    \n",
    "    dp = [[0 for i in range(m+1)] for j in range(n+1)]\n",
    "    \n",
    "    for i in range(m+1):\n",
    "        dp[0][i] = i\n",
    "    \n",
    "    for j in range(n+1):\n",
    "        dp[j][0] = j\n",
    "    \n",
    "    for i in range(1,n+1):\n",
    "        for j in range(1,m+1):\n",
    "            if str1[i-1] == str2[j-1]:\n",
    "                dp[i][j] = dp[i-1][j-1]\n",
    "            else:\n",
    "                dp[i][j] = 1+ min(dp[i-1][j],dp[i][j-1],dp[i-1][j-1])\n",
    "    return(dp[-1][-1])"
   ]
  },
  {
   "cell_type": "code",
   "execution_count": 3,
   "metadata": {},
   "outputs": [],
   "source": [
    "# TC: O(nm) SC: O(min(n,m))\n",
    "# 2 array -> just storing the last row array\n",
    "def levenshteinDistance(str1, str2):\n",
    "    # Write your code here.\n",
    "    lstr1 = len(str1)\n",
    "    lstr2 = len(str2)\n",
    "    \n",
    "    if lstr1 <= lstr2:\n",
    "        small = str1\n",
    "        big = str2\n",
    "    else:\n",
    "        small = str2\n",
    "        big = str1\n",
    "    \n",
    "    evenEdits = [x for x in range(len(small)+1)]\n",
    "    oddEdits = [None for x in range(len(small)+1)]\n",
    "    \n",
    "    for i in range(1,len(big)+1):\n",
    "        if i%2 == 1:\n",
    "            currentEdits = oddEdits\n",
    "            previousEdits = evenEdits\n",
    "        else:\n",
    "            currentEdits = evenEdits\n",
    "            previousEdits = oddEdits\n",
    "        currentEdits[0] = i\n",
    "        for j in range(1,len(small)+1):\n",
    "            if big[i-1] == small[j-1]:\n",
    "                currentEdits[j] = previousEdits[j-1]\n",
    "            else:\n",
    "                currentEdits[j] = 1 + min(previousEdits[j-1],previousEdits[j],currentEdits[j-1])\n",
    "    \n",
    "    return evenEdits[-1] if len(big)%2 == 0 else oddEdits[-1]"
   ]
  },
  {
   "cell_type": "code",
   "execution_count": null,
   "metadata": {},
   "outputs": [],
   "source": []
  }
 ],
 "metadata": {
  "kernelspec": {
   "display_name": "Python 3",
   "language": "python",
   "name": "python3"
  },
  "language_info": {
   "codemirror_mode": {
    "name": "ipython",
    "version": 3
   },
   "file_extension": ".py",
   "mimetype": "text/x-python",
   "name": "python",
   "nbconvert_exporter": "python",
   "pygments_lexer": "ipython3",
   "version": "3.7.6"
  }
 },
 "nbformat": 4,
 "nbformat_minor": 4
}
