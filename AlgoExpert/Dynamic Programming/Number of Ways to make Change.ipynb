{
 "cells": [
  {
   "cell_type": "markdown",
   "metadata": {},
   "source": [
    "# Number of Ways to make Change"
   ]
  },
  {
   "cell_type": "code",
   "execution_count": 1,
   "metadata": {},
   "outputs": [],
   "source": [
    "#TC: O(n*d) SC: O(n)\n",
    "\n",
    "def numberOfWaysToMakeChange(n, denoms):\n",
    "    # Write your code here.\n",
    "    ways = [0 for amount in range(n+1)]\n",
    "    ways[0] = 1\n",
    "    \n",
    "    for denom in denoms:\n",
    "        if denom > n:\n",
    "            break\n",
    "        for amount in range(1,n+1):\n",
    "            if denom <= amount:\n",
    "                ways[i] += ways[amount-denom]\n",
    "    return(ways[n])"
   ]
  },
  {
   "cell_type": "code",
   "execution_count": 2,
   "metadata": {},
   "outputs": [],
   "source": [
    "test = {\"denoms\": [1, 5, 10, 25], \"n\": 4}\n",
    "expected = 1\n",
    "# Only one way to make sum 4 -> using 4*1"
   ]
  },
  {
   "cell_type": "code",
   "execution_count": null,
   "metadata": {},
   "outputs": [],
   "source": []
  }
 ],
 "metadata": {
  "kernelspec": {
   "display_name": "Python 3",
   "language": "python",
   "name": "python3"
  },
  "language_info": {
   "codemirror_mode": {
    "name": "ipython",
    "version": 3
   },
   "file_extension": ".py",
   "mimetype": "text/x-python",
   "name": "python",
   "nbconvert_exporter": "python",
   "pygments_lexer": "ipython3",
   "version": "3.7.6"
  }
 },
 "nbformat": 4,
 "nbformat_minor": 4
}
