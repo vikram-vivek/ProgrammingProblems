{
 "cells": [
  {
   "cell_type": "markdown",
   "metadata": {},
   "source": [
    "# Min Number of Jumps\n",
    "Intution:\n",
    "    We keep a tack of max reach from a node\n",
    "    and steps required to reach to that node\n",
    "    and keep a jump counter which increases when \n",
    "    the steps in hand becomes 0"
   ]
  },
  {
   "cell_type": "code",
   "execution_count": 1,
   "metadata": {
    "collapsed": true
   },
   "outputs": [],
   "source": [
    "# TC: O(n) SC: O(1)\n",
    "def minNumberOfJumps(array):\n",
    "    # Write your code here.\n",
    "    if len(array) == 1:\n",
    "        return 0\n",
    "    \n",
    "    max_reach = array[0]\n",
    "    jumps = 0\n",
    "    steps = array[0]\n",
    "    \n",
    "    for i in range(1,len(array)-1):\n",
    "        max_reach = max(max_reach,i + array[i])\n",
    "        steps -= 1\n",
    "        \n",
    "        if steps == 0:\n",
    "            jumps += 1\n",
    "            steps = max_reach - i\n",
    "    \n",
    "    return jumps + 1"
   ]
  },
  {
   "cell_type": "code",
   "execution_count": 2,
   "metadata": {
    "collapsed": true
   },
   "outputs": [],
   "source": [
    "arr = [3,4,2,1,2,3,7,1,1,1,3]"
   ]
  },
  {
   "cell_type": "code",
   "execution_count": 3,
   "metadata": {},
   "outputs": [
    {
     "data": {
      "text/plain": [
       "4"
      ]
     },
     "execution_count": 3,
     "metadata": {},
     "output_type": "execute_result"
    }
   ],
   "source": [
    "minNumberOfJumps(arr)"
   ]
  },
  {
   "cell_type": "code",
   "execution_count": null,
   "metadata": {
    "collapsed": true
   },
   "outputs": [],
   "source": []
  }
 ],
 "metadata": {
  "kernelspec": {
   "display_name": "Python 3",
   "language": "python",
   "name": "python3"
  },
  "language_info": {
   "codemirror_mode": {
    "name": "ipython",
    "version": 3
   },
   "file_extension": ".py",
   "mimetype": "text/x-python",
   "name": "python",
   "nbconvert_exporter": "python",
   "pygments_lexer": "ipython3",
   "version": "3.6.1"
  }
 },
 "nbformat": 4,
 "nbformat_minor": 2
}
