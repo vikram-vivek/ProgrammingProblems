{
 "cells": [
  {
   "cell_type": "markdown",
   "metadata": {},
   "source": [
    "# Minimum Numbers of Coin for Change"
   ]
  },
  {
   "cell_type": "code",
   "execution_count": 2,
   "metadata": {},
   "outputs": [],
   "source": [
    "# Given a target sum and an array of coins\n",
    "# Find the minimum numbers of coins needed\n",
    "# to reach the target sun. If not possible\n",
    "# return -1\n",
    "\n",
    "# Eg {\"denoms\": [39, 45, 130, 40, 4, 1], \"n\": 135} Output: 3\n",
    "#    {\"denoms\": [2, 4], \"n\": 7} Output -1"
   ]
  },
  {
   "cell_type": "code",
   "execution_count": 3,
   "metadata": {},
   "outputs": [],
   "source": [
    "def minNumberOfCoinsForChange(n, denoms):\n",
    "    # Write your code here.\n",
    "    ways = [float('inf') for amount in  range(n+1)]\n",
    "    ways[0] = 0\n",
    "    \n",
    "    for denom in denoms:\n",
    "        for amount in range(1,n+1):\n",
    "            if denom <= amount:\n",
    "                ways[amount] = min(ways[amount], 1+ways[amount-denom] )\n",
    "    \n",
    "    if ways[n] == float('inf'):\n",
    "        return -1\n",
    "    else:\n",
    "        return ways[n]"
   ]
  },
  {
   "cell_type": "code",
   "execution_count": null,
   "metadata": {},
   "outputs": [],
   "source": []
  }
 ],
 "metadata": {
  "kernelspec": {
   "display_name": "Python 3",
   "language": "python",
   "name": "python3"
  },
  "language_info": {
   "codemirror_mode": {
    "name": "ipython",
    "version": 3
   },
   "file_extension": ".py",
   "mimetype": "text/x-python",
   "name": "python",
   "nbconvert_exporter": "python",
   "pygments_lexer": "ipython3",
   "version": "3.7.6"
  }
 },
 "nbformat": 4,
 "nbformat_minor": 4
}
